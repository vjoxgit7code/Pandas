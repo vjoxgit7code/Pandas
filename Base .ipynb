{
 "cells": [
  {
   "cell_type": "code",
   "execution_count": 16,
   "id": "a8a9bf40",
   "metadata": {},
   "outputs": [
    {
     "name": "stdout",
     "output_type": "stream",
     "text": [
      "5\n"
     ]
    }
   ],
   "source": [
    "print(2+3)"
   ]
  },
  {
   "cell_type": "code",
   "execution_count": 17,
   "id": "1a10c4db",
   "metadata": {},
   "outputs": [],
   "source": [
    "from pandas import Series\n",
    "se=Series([1,4,7,9])"
   ]
  },
  {
   "cell_type": "code",
   "execution_count": 18,
   "id": "f568f87c",
   "metadata": {},
   "outputs": [
    {
     "data": {
      "text/plain": [
       "0    1\n",
       "1    4\n",
       "2    7\n",
       "3    9\n",
       "dtype: int64"
      ]
     },
     "execution_count": 18,
     "metadata": {},
     "output_type": "execute_result"
    }
   ],
   "source": [
    "se\n"
   ]
  },
  {
   "cell_type": "code",
   "execution_count": 19,
   "id": "3337e6f3",
   "metadata": {},
   "outputs": [
    {
     "data": {
      "text/plain": [
       "7"
      ]
     },
     "execution_count": 19,
     "metadata": {},
     "output_type": "execute_result"
    }
   ],
   "source": [
    "se[2]"
   ]
  },
  {
   "cell_type": "code",
   "execution_count": 20,
   "id": "7293d0dc",
   "metadata": {},
   "outputs": [],
   "source": [
    "se2=Series([100,400,99,89],index=['a','b','d','c'])"
   ]
  },
  {
   "cell_type": "code",
   "execution_count": 21,
   "id": "a67ac96c",
   "metadata": {},
   "outputs": [
    {
     "data": {
      "text/plain": [
       "400"
      ]
     },
     "execution_count": 21,
     "metadata": {},
     "output_type": "execute_result"
    }
   ],
   "source": [
    "se2['b']"
   ]
  },
  {
   "cell_type": "code",
   "execution_count": 22,
   "id": "9a510f05",
   "metadata": {},
   "outputs": [
    {
     "data": {
      "text/plain": [
       "a    100\n",
       "b    400\n",
       "c     99\n",
       "d     89\n",
       "dtype: int64"
      ]
     },
     "execution_count": 22,
     "metadata": {},
     "output_type": "execute_result"
    }
   ],
   "source": [
    "se2"
   ]
  },
  {
   "cell_type": "code",
   "execution_count": 23,
   "id": "2bf611aa",
   "metadata": {},
   "outputs": [],
   "source": [
    "salary={'john':300,'Smith':200,'joshy':400}"
   ]
  },
  {
   "cell_type": "code",
   "execution_count": 24,
   "id": "690c8ac5",
   "metadata": {},
   "outputs": [],
   "source": [
    "se3=Series(salary)"
   ]
  },
  {
   "cell_type": "code",
   "execution_count": 25,
   "id": "df7cc7af",
   "metadata": {},
   "outputs": [
    {
     "data": {
      "text/plain": [
       "john     300\n",
       "Smith    200\n",
       "joshy    400\n",
       "dtype: int64"
      ]
     },
     "execution_count": 25,
     "metadata": {},
     "output_type": "execute_result"
    }
   ],
   "source": [
    "se3"
   ]
  },
  {
   "cell_type": "code",
   "execution_count": 26,
   "id": "89cf0a8a",
   "metadata": {},
   "outputs": [
    {
     "data": {
      "text/plain": [
       "400"
      ]
     },
     "execution_count": 26,
     "metadata": {},
     "output_type": "execute_result"
    }
   ],
   "source": [
    "se3['joshy']"
   ]
  },
  {
   "cell_type": "code",
   "execution_count": 28,
   "id": "dd7fe499",
   "metadata": {},
   "outputs": [
    {
     "data": {
      "text/plain": [
       "a    100\n",
       "b    400\n",
       "c     99\n",
       "d     89\n",
       "dtype: int64"
      ]
     },
     "execution_count": 28,
     "metadata": {},
     "output_type": "execute_result"
    }
   ],
   "source": [
    "se2.sort_index()"
   ]
  },
  {
   "cell_type": "code",
   "execution_count": null,
   "id": "11283932",
   "metadata": {},
   "outputs": [],
   "source": []
  }
 ],
 "metadata": {
  "kernelspec": {
   "display_name": "Python 3 (ipykernel)",
   "language": "python",
   "name": "python3"
  },
  "language_info": {
   "codemirror_mode": {
    "name": "ipython",
    "version": 3
   },
   "file_extension": ".py",
   "mimetype": "text/x-python",
   "name": "python",
   "nbconvert_exporter": "python",
   "pygments_lexer": "ipython3",
   "version": "3.9.13"
  }
 },
 "nbformat": 4,
 "nbformat_minor": 5
}
